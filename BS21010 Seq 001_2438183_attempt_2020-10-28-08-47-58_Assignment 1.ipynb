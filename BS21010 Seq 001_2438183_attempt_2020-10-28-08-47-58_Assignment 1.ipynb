{
 "cells": [
  {
   "cell_type": "code",
   "execution_count": null,
   "metadata": {},
   "outputs": [],
   "source": [
    "#!/usr/bin/env python\n",
    "# coding: utf-8\n",
    "\n",
    "# In[6]:\n",
    "\n",
    "\n",
    "input_colour = input(\"What is your favourite colour? :\")\n",
    "\n",
    "\n",
    "try:\n",
    "    user_input = int(input(\"How many bottles to start with? : \"))\n",
    "    if type(user_input) == int:\n",
    "\n",
    "        numberOfBottles = int(user_input)\n",
    "        print(\"Number of bottles : \" ,numberOfBottles)\n",
    "\n",
    "        while numberOfBottles > 0:                                                    \n",
    "          if(numberOfBottles == 1):                                                 \n",
    "            print (str(numberOfBottles) + \" \"+ input_colour +  \" bottle, hanging on the wall\")                                                    \n",
    "            print (str(numberOfBottles) + \" \"+ input_colour +  \" bottle hanging on the wall\")                                                    \n",
    "            print (\"and if one \" + input_colour + \" bottle, should accidentally falls\")                                                    \n",
    "            numberOfBottles = numberOfBottles - 1                                                   \n",
    "            print(\"there'd be no \" + input_colour + \" bottle hanging on the wall\")                                                 \n",
    "            print(\"\\n\")                                                 \n",
    "          elif(numberOfBottles == 2):                                                   \n",
    "            print (str(numberOfBottles) + \" \" +  input_colour + \" bottles, hanging on the wall\")                                                   \n",
    "            print (str(numberOfBottles) + \" \" +  input_colour + \" bottles hanging on the wall\")                                                   \n",
    "            print (\"and if one \" +  input_colour + \" bottle should accidentally fall\")                                                  \n",
    "            numberOfBottles = numberOfBottles - 1                                                   \n",
    "            print (\"there'd be \"  + str (numberOfBottles)  + \" \" +   input_colour + \" bottle, hanging on the wall\")                                                    \n",
    "            print(\"\\n\")                                                 \n",
    "          else:                                                 \n",
    "            print (str(numberOfBottles) + \" \"  +  input_colour + \"  bottles, hanging on the wall\")                                                   \n",
    "            print (str(numberOfBottles) + \" \" + input_colour + \" bottles hanging on the wall\")                                                   \n",
    "            print (\"and if one \" +  input_colour + \" bottle should accidentally falls\")                                                 \n",
    "            numberOfBottles = numberOfBottles - 1                                                   \n",
    "            print (\"there'd be \"  + str (numberOfBottles) + \" \" +  input_colour + \" green bottles, hanging on the wall\")                                                   \n",
    "            print(\"\\n\")     \n",
    "except:\n",
    "    print(\"Not a number\")\n",
    "    \n"
   ]
  },
  {
   "cell_type": "markdown",
   "metadata": {},
   "source": [
    "# Feedback\n",
    "\n",
    "A well commented code that runs well. This shows excellent choice of variable names, uses loops and conditionals appropriately and manages the program flow well. However it does not meet the requirements of the brief in that there is no opportunity for the user to guess the next number, nor recording of right and wrong.\n",
    "\n",
    "1. Always check your submission meets the requirements stated in the brief.\n",
    "2. Use the string.format() method to format your output. It is much easier in the long run\n",
    "3. A really good attempt to deal with the plurals issue. There are more elegant ways to do this without repetition of code.\n",
    " eg plurals = ['bottles', 'bottle', 'bottles']\n",
    " print('There are {} green {}'.format(count, plurals[min(2, count)])) # I'll let you work out how that is doing it.\n",
    "4. When using try/except, try to focus it on just the place where the error will occur so you can prompt the user to fix it In this case you exit the program with no chance for remedy.\n",
    "Overall grade: B2"
   ]
  }
 ],
 "metadata": {
  "kernelspec": {
   "display_name": "Python 3",
   "language": "python",
   "name": "python3"
  },
  "language_info": {
   "codemirror_mode": {
    "name": "ipython",
    "version": 3
   },
   "file_extension": ".py",
   "mimetype": "text/x-python",
   "name": "python",
   "nbconvert_exporter": "python",
   "pygments_lexer": "ipython3",
   "version": "3.8.3"
  }
 },
 "nbformat": 4,
 "nbformat_minor": 4
}
